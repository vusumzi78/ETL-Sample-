{
 "cells": [
  {
   "cell_type": "markdown",
   "id": "36ae120a-48a3-44ba-afef-b453cd25ee6f",
   "metadata": {},
   "source": [
    "## Introduction\n",
    "\n",
    "### Project Overview\n",
    "\n",
    "This project demonstrates a sample ETL (Extract, Transform, Load) process using Python. The objective is to extract data from various file formats, transform the data to ensure consistency and cleanliness, and load the transformed data into a consolidated dataset. This example showcases fundamental ETL processes using CSV, Excel, and JSON files, which are common formats for data interchange.\n",
    "\n",
    "### Objectives\n",
    "\n",
    "- **Extract**: Load data from multiple sources: a CSV file containing sales information, an Excel file with customer details, and a JSON file with product data.\n",
    "- **Transform**: Merge and clean the data to create a unified dataset. This includes handling missing values and ensuring data integrity.\n",
    "- **Load**: Save the transformed data into a new CSV file, which can be used for further analysis or reporting.\n",
    "\n",
    "### Data Sources\n",
    "\n",
    "1. **Sales Data (CSV)**: Contains transaction records with order details.\n",
    "2. **Customer Data (Excel)**: Provides information about customers including their IDs and locations.\n",
    "3. **Product Data (JSON)**: Includes product IDs and names for mapping sales to products.\n"
   ]
  },
  {
   "cell_type": "code",
   "execution_count": 3,
   "id": "23f56f92-85e8-4232-95fa-ea1a341fc684",
   "metadata": {},
   "outputs": [
    {
     "name": "stdout",
     "output_type": "stream",
     "text": [
      "ETL process completed successfully!\n"
     ]
    }
   ],
   "source": [
    "import pandas as pd\n",
    "import json\n",
    "\n",
    "# Extract\n",
    "# Load CSV\n",
    "sales_df = pd.read_csv('sales_data.csv')\n",
    "\n",
    "# Load Excel\n",
    "customer_df = pd.read_excel('customer_data.xlsx')\n",
    "\n",
    "# Load JSON\n",
    "with open('product_data.js', 'r') as f:\n",
    "    product_data = json.load(f)\n",
    "product_df = pd.DataFrame(product_data)\n",
    "\n",
    "# Transform\n",
    "# Merge sales data with customer data\n",
    "sales_customer_df = pd.merge(sales_df, customer_df, on='CustomerID', how='left')\n",
    "\n",
    "# Merge sales data with product data\n",
    "sales_full_df = pd.merge(sales_customer_df, product_df, on='ProductID', how='left')\n",
    "\n",
    "# Handle missing values\n",
    "sales_full_df.fillna('Unknown', inplace=True)\n",
    "\n",
    "# Load\n",
    "# Save the combined data to a new CSV file\n",
    "sales_full_df.to_csv('combined_data.csv', index=False)\n",
    "\n",
    "print('ETL process completed successfully!')\n"
   ]
  },
  {
   "cell_type": "code",
   "execution_count": null,
   "id": "8fe9e8f0-a8cd-4ea3-ba18-4887fb28ec0a",
   "metadata": {},
   "outputs": [],
   "source": []
  }
 ],
 "metadata": {
  "kernelspec": {
   "display_name": "Python 3 (ipykernel)",
   "language": "python",
   "name": "python3"
  },
  "language_info": {
   "codemirror_mode": {
    "name": "ipython",
    "version": 3
   },
   "file_extension": ".py",
   "mimetype": "text/x-python",
   "name": "python",
   "nbconvert_exporter": "python",
   "pygments_lexer": "ipython3",
   "version": "3.12.4"
  }
 },
 "nbformat": 4,
 "nbformat_minor": 5
}
